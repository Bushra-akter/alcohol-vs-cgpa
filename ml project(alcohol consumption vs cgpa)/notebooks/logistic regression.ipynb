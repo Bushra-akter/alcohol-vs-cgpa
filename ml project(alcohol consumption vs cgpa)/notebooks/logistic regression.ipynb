{
 "cells": [
  {
   "cell_type": "markdown",
   "metadata": {},
   "source": [
    "# Data Understanding\n",
    "\n",
    "The data for this data science project in researching factors influencing teenage alcoholism was sourced from the [UCI Machine Learning Repository](https://archive.ics.uci.edu/ml/datasets/student%2Bperformance#). It was donated to the site by Prof. Paulo Cortez of University Minho. His original work on the dataset, \"USING DATA MINING TO PREDICT SECONDARY SCHOOL STUDENT PERFORMANCE, can be found [here](http://www3.dsi.uminho.pt/pcortez/student.pdf)\n",
    "\n",
    "The data set consists of information on various attributes for each student, taking Portuguese language classes who come from ether of the two higher secondary schools, The Gabriel Pereira School and  the Mousinho da Silveira School. There is information on 649 students on 33 attributes. A list of all the features with description can be found on [Readme](https://github.com/Yeshi341/Student_Alcohol_Consumption/blob/master/Readme.md) section of the Github page to this project. The features have also been described sequentially as [EDA]('EDA.ipynb') was performed on each variable in the EDA notebook."
   ]
  },
  {
   "cell_type": "code",
   "execution_count": 1,
   "metadata": {},
   "outputs": [],
   "source": [
    "# Importing necessary libraries\n",
    "import pandas as pd\n",
    "import numpy as np\n",
    "import matplotlib.pyplot as plt\n",
    "%matplotlib inline\n",
    "import seaborn as sns\n",
    "\n",
    "from sklearn.model_selection import train_test_split\n",
    "from sklearn.feature_selection import SelectKBest, f_classif\n",
    "from sklearn.preprocessing import MinMaxScaler\n",
    "from sklearn import metrics\n",
    "from sklearn.linear_model import LogisticRegression\n",
    "from sklearn.model_selection import GridSearchCV\n",
    "\n",
    "from sklearn.metrics import ConfusionMatrixDisplay\n",
    "from sklearn.metrics import classification_report,confusion_matrix"
   ]
  },
  {
   "cell_type": "code",
   "execution_count": 2,
   "metadata": {},
   "outputs": [],
   "source": [
    "df = pd.read_csv('preprocessing_file.csv')"
   ]
  },
  {
   "cell_type": "code",
   "execution_count": 3,
   "metadata": {},
   "outputs": [
    {
     "data": {
      "text/html": [
       "<div>\n",
       "<style scoped>\n",
       "    .dataframe tbody tr th:only-of-type {\n",
       "        vertical-align: middle;\n",
       "    }\n",
       "\n",
       "    .dataframe tbody tr th {\n",
       "        vertical-align: top;\n",
       "    }\n",
       "\n",
       "    .dataframe thead th {\n",
       "        text-align: right;\n",
       "    }\n",
       "</style>\n",
       "<table border=\"1\" class=\"dataframe\">\n",
       "  <thead>\n",
       "    <tr style=\"text-align: right;\">\n",
       "      <th></th>\n",
       "      <th>school</th>\n",
       "      <th>sex</th>\n",
       "      <th>age</th>\n",
       "      <th>address</th>\n",
       "      <th>Pstatus</th>\n",
       "      <th>paid</th>\n",
       "      <th>activities</th>\n",
       "      <th>nursery</th>\n",
       "      <th>internet</th>\n",
       "      <th>romantic</th>\n",
       "      <th>absences</th>\n",
       "      <th>alc</th>\n",
       "      <th>stability</th>\n",
       "      <th>academic_support</th>\n",
       "      <th>idle</th>\n",
       "      <th>grade_avg</th>\n",
       "      <th>delinquency</th>\n",
       "      <th>Medu_1</th>\n",
       "      <th>Medu_2</th>\n",
       "      <th>Medu_3</th>\n",
       "      <th>Medu_4</th>\n",
       "      <th>Fedu_1</th>\n",
       "      <th>Fedu_2</th>\n",
       "      <th>Fedu_3</th>\n",
       "      <th>Fedu_4</th>\n",
       "      <th>Mjob_2</th>\n",
       "      <th>Mjob_3</th>\n",
       "      <th>Mjob_4</th>\n",
       "      <th>Mjob_5</th>\n",
       "      <th>Fjob_2</th>\n",
       "      <th>Fjob_3</th>\n",
       "      <th>Fjob_4</th>\n",
       "      <th>Fjob_5</th>\n",
       "      <th>reason_2</th>\n",
       "      <th>reason_3</th>\n",
       "      <th>reason_4</th>\n",
       "      <th>guardian_2</th>\n",
       "      <th>guardian_3</th>\n",
       "      <th>traveltime_2</th>\n",
       "      <th>traveltime_3</th>\n",
       "      <th>traveltime_4</th>\n",
       "      <th>studytime_2</th>\n",
       "      <th>studytime_3</th>\n",
       "      <th>studytime_4</th>\n",
       "      <th>failures_1</th>\n",
       "      <th>failures_2</th>\n",
       "      <th>failures_3</th>\n",
       "      <th>health_2</th>\n",
       "      <th>health_3</th>\n",
       "      <th>health_4</th>\n",
       "      <th>health_5</th>\n",
       "    </tr>\n",
       "  </thead>\n",
       "  <tbody>\n",
       "    <tr>\n",
       "      <th>0</th>\n",
       "      <td>1</td>\n",
       "      <td>1</td>\n",
       "      <td>18</td>\n",
       "      <td>0</td>\n",
       "      <td>0</td>\n",
       "      <td>0</td>\n",
       "      <td>0</td>\n",
       "      <td>1</td>\n",
       "      <td>0</td>\n",
       "      <td>0</td>\n",
       "      <td>4</td>\n",
       "      <td>0</td>\n",
       "      <td>4</td>\n",
       "      <td>2</td>\n",
       "      <td>12</td>\n",
       "      <td>7.33</td>\n",
       "      <td>0</td>\n",
       "      <td>0</td>\n",
       "      <td>0</td>\n",
       "      <td>0</td>\n",
       "      <td>1</td>\n",
       "      <td>0</td>\n",
       "      <td>0</td>\n",
       "      <td>0</td>\n",
       "      <td>1</td>\n",
       "      <td>0</td>\n",
       "      <td>0</td>\n",
       "      <td>0</td>\n",
       "      <td>0</td>\n",
       "      <td>0</td>\n",
       "      <td>1</td>\n",
       "      <td>0</td>\n",
       "      <td>0</td>\n",
       "      <td>0</td>\n",
       "      <td>1</td>\n",
       "      <td>0</td>\n",
       "      <td>1</td>\n",
       "      <td>0</td>\n",
       "      <td>1</td>\n",
       "      <td>0</td>\n",
       "      <td>0</td>\n",
       "      <td>1</td>\n",
       "      <td>0</td>\n",
       "      <td>0</td>\n",
       "      <td>0</td>\n",
       "      <td>0</td>\n",
       "      <td>0</td>\n",
       "      <td>0</td>\n",
       "      <td>1</td>\n",
       "      <td>0</td>\n",
       "      <td>0</td>\n",
       "    </tr>\n",
       "    <tr>\n",
       "      <th>1</th>\n",
       "      <td>1</td>\n",
       "      <td>1</td>\n",
       "      <td>17</td>\n",
       "      <td>0</td>\n",
       "      <td>1</td>\n",
       "      <td>0</td>\n",
       "      <td>0</td>\n",
       "      <td>0</td>\n",
       "      <td>1</td>\n",
       "      <td>0</td>\n",
       "      <td>2</td>\n",
       "      <td>0</td>\n",
       "      <td>5</td>\n",
       "      <td>2</td>\n",
       "      <td>9</td>\n",
       "      <td>10.33</td>\n",
       "      <td>0</td>\n",
       "      <td>1</td>\n",
       "      <td>0</td>\n",
       "      <td>0</td>\n",
       "      <td>0</td>\n",
       "      <td>1</td>\n",
       "      <td>0</td>\n",
       "      <td>0</td>\n",
       "      <td>0</td>\n",
       "      <td>0</td>\n",
       "      <td>0</td>\n",
       "      <td>0</td>\n",
       "      <td>0</td>\n",
       "      <td>0</td>\n",
       "      <td>0</td>\n",
       "      <td>0</td>\n",
       "      <td>1</td>\n",
       "      <td>0</td>\n",
       "      <td>1</td>\n",
       "      <td>0</td>\n",
       "      <td>0</td>\n",
       "      <td>0</td>\n",
       "      <td>0</td>\n",
       "      <td>0</td>\n",
       "      <td>0</td>\n",
       "      <td>1</td>\n",
       "      <td>0</td>\n",
       "      <td>0</td>\n",
       "      <td>0</td>\n",
       "      <td>0</td>\n",
       "      <td>0</td>\n",
       "      <td>0</td>\n",
       "      <td>1</td>\n",
       "      <td>0</td>\n",
       "      <td>0</td>\n",
       "    </tr>\n",
       "    <tr>\n",
       "      <th>2</th>\n",
       "      <td>1</td>\n",
       "      <td>1</td>\n",
       "      <td>15</td>\n",
       "      <td>0</td>\n",
       "      <td>1</td>\n",
       "      <td>0</td>\n",
       "      <td>0</td>\n",
       "      <td>1</td>\n",
       "      <td>1</td>\n",
       "      <td>0</td>\n",
       "      <td>6</td>\n",
       "      <td>0</td>\n",
       "      <td>0</td>\n",
       "      <td>2</td>\n",
       "      <td>6</td>\n",
       "      <td>12.33</td>\n",
       "      <td>0</td>\n",
       "      <td>1</td>\n",
       "      <td>0</td>\n",
       "      <td>0</td>\n",
       "      <td>0</td>\n",
       "      <td>1</td>\n",
       "      <td>0</td>\n",
       "      <td>0</td>\n",
       "      <td>0</td>\n",
       "      <td>0</td>\n",
       "      <td>0</td>\n",
       "      <td>0</td>\n",
       "      <td>0</td>\n",
       "      <td>0</td>\n",
       "      <td>0</td>\n",
       "      <td>0</td>\n",
       "      <td>1</td>\n",
       "      <td>0</td>\n",
       "      <td>0</td>\n",
       "      <td>1</td>\n",
       "      <td>1</td>\n",
       "      <td>0</td>\n",
       "      <td>0</td>\n",
       "      <td>0</td>\n",
       "      <td>0</td>\n",
       "      <td>1</td>\n",
       "      <td>0</td>\n",
       "      <td>0</td>\n",
       "      <td>0</td>\n",
       "      <td>0</td>\n",
       "      <td>0</td>\n",
       "      <td>0</td>\n",
       "      <td>1</td>\n",
       "      <td>0</td>\n",
       "      <td>0</td>\n",
       "    </tr>\n",
       "    <tr>\n",
       "      <th>3</th>\n",
       "      <td>1</td>\n",
       "      <td>1</td>\n",
       "      <td>15</td>\n",
       "      <td>0</td>\n",
       "      <td>1</td>\n",
       "      <td>0</td>\n",
       "      <td>1</td>\n",
       "      <td>1</td>\n",
       "      <td>1</td>\n",
       "      <td>1</td>\n",
       "      <td>0</td>\n",
       "      <td>0</td>\n",
       "      <td>3</td>\n",
       "      <td>2</td>\n",
       "      <td>4</td>\n",
       "      <td>14.00</td>\n",
       "      <td>0</td>\n",
       "      <td>0</td>\n",
       "      <td>0</td>\n",
       "      <td>0</td>\n",
       "      <td>1</td>\n",
       "      <td>0</td>\n",
       "      <td>1</td>\n",
       "      <td>0</td>\n",
       "      <td>0</td>\n",
       "      <td>0</td>\n",
       "      <td>0</td>\n",
       "      <td>1</td>\n",
       "      <td>0</td>\n",
       "      <td>1</td>\n",
       "      <td>0</td>\n",
       "      <td>0</td>\n",
       "      <td>0</td>\n",
       "      <td>0</td>\n",
       "      <td>0</td>\n",
       "      <td>0</td>\n",
       "      <td>1</td>\n",
       "      <td>0</td>\n",
       "      <td>0</td>\n",
       "      <td>0</td>\n",
       "      <td>0</td>\n",
       "      <td>0</td>\n",
       "      <td>1</td>\n",
       "      <td>0</td>\n",
       "      <td>0</td>\n",
       "      <td>0</td>\n",
       "      <td>0</td>\n",
       "      <td>0</td>\n",
       "      <td>0</td>\n",
       "      <td>0</td>\n",
       "      <td>1</td>\n",
       "    </tr>\n",
       "    <tr>\n",
       "      <th>4</th>\n",
       "      <td>1</td>\n",
       "      <td>1</td>\n",
       "      <td>16</td>\n",
       "      <td>0</td>\n",
       "      <td>1</td>\n",
       "      <td>0</td>\n",
       "      <td>0</td>\n",
       "      <td>1</td>\n",
       "      <td>0</td>\n",
       "      <td>0</td>\n",
       "      <td>0</td>\n",
       "      <td>0</td>\n",
       "      <td>4</td>\n",
       "      <td>2</td>\n",
       "      <td>6</td>\n",
       "      <td>12.33</td>\n",
       "      <td>0</td>\n",
       "      <td>0</td>\n",
       "      <td>0</td>\n",
       "      <td>1</td>\n",
       "      <td>0</td>\n",
       "      <td>0</td>\n",
       "      <td>0</td>\n",
       "      <td>1</td>\n",
       "      <td>0</td>\n",
       "      <td>0</td>\n",
       "      <td>0</td>\n",
       "      <td>0</td>\n",
       "      <td>1</td>\n",
       "      <td>0</td>\n",
       "      <td>0</td>\n",
       "      <td>0</td>\n",
       "      <td>1</td>\n",
       "      <td>0</td>\n",
       "      <td>0</td>\n",
       "      <td>0</td>\n",
       "      <td>0</td>\n",
       "      <td>0</td>\n",
       "      <td>0</td>\n",
       "      <td>0</td>\n",
       "      <td>0</td>\n",
       "      <td>1</td>\n",
       "      <td>0</td>\n",
       "      <td>0</td>\n",
       "      <td>0</td>\n",
       "      <td>0</td>\n",
       "      <td>0</td>\n",
       "      <td>0</td>\n",
       "      <td>0</td>\n",
       "      <td>0</td>\n",
       "      <td>1</td>\n",
       "    </tr>\n",
       "  </tbody>\n",
       "</table>\n",
       "</div>"
      ],
      "text/plain": [
       "   school  sex  age  address  Pstatus  paid  activities  nursery  internet  \\\n",
       "0       1    1   18        0        0     0           0        1         0   \n",
       "1       1    1   17        0        1     0           0        0         1   \n",
       "2       1    1   15        0        1     0           0        1         1   \n",
       "3       1    1   15        0        1     0           1        1         1   \n",
       "4       1    1   16        0        1     0           0        1         0   \n",
       "\n",
       "   romantic  absences  alc  stability  academic_support  idle  grade_avg  \\\n",
       "0         0         4    0          4                 2    12       7.33   \n",
       "1         0         2    0          5                 2     9      10.33   \n",
       "2         0         6    0          0                 2     6      12.33   \n",
       "3         1         0    0          3                 2     4      14.00   \n",
       "4         0         0    0          4                 2     6      12.33   \n",
       "\n",
       "   delinquency  Medu_1  Medu_2  Medu_3  Medu_4  Fedu_1  Fedu_2  Fedu_3  \\\n",
       "0            0       0       0       0       1       0       0       0   \n",
       "1            0       1       0       0       0       1       0       0   \n",
       "2            0       1       0       0       0       1       0       0   \n",
       "3            0       0       0       0       1       0       1       0   \n",
       "4            0       0       0       1       0       0       0       1   \n",
       "\n",
       "   Fedu_4  Mjob_2  Mjob_3  Mjob_4  Mjob_5  Fjob_2  Fjob_3  Fjob_4  Fjob_5  \\\n",
       "0       1       0       0       0       0       0       1       0       0   \n",
       "1       0       0       0       0       0       0       0       0       1   \n",
       "2       0       0       0       0       0       0       0       0       1   \n",
       "3       0       0       0       1       0       1       0       0       0   \n",
       "4       0       0       0       0       1       0       0       0       1   \n",
       "\n",
       "   reason_2  reason_3  reason_4  guardian_2  guardian_3  traveltime_2  \\\n",
       "0         0         1         0           1           0             1   \n",
       "1         0         1         0           0           0             0   \n",
       "2         0         0         1           1           0             0   \n",
       "3         0         0         0           1           0             0   \n",
       "4         0         0         0           0           0             0   \n",
       "\n",
       "   traveltime_3  traveltime_4  studytime_2  studytime_3  studytime_4  \\\n",
       "0             0             0            1            0            0   \n",
       "1             0             0            1            0            0   \n",
       "2             0             0            1            0            0   \n",
       "3             0             0            0            1            0   \n",
       "4             0             0            1            0            0   \n",
       "\n",
       "   failures_1  failures_2  failures_3  health_2  health_3  health_4  health_5  \n",
       "0           0           0           0         0         1         0         0  \n",
       "1           0           0           0         0         1         0         0  \n",
       "2           0           0           0         0         1         0         0  \n",
       "3           0           0           0         0         0         0         1  \n",
       "4           0           0           0         0         0         0         1  "
      ]
     },
     "execution_count": 3,
     "metadata": {},
     "output_type": "execute_result"
    }
   ],
   "source": [
    "pd.set_option(\"display.max_columns\",None)\n",
    "df.head()"
   ]
  },
  {
   "cell_type": "code",
   "execution_count": 20,
   "metadata": {},
   "outputs": [
    {
     "name": "stdout",
     "output_type": "stream",
     "text": [
      "(649, 51)\n",
      "Index(['school', 'sex', 'age', 'address', 'Pstatus', 'paid', 'activities',\n",
      "       'nursery', 'internet', 'romantic', 'absences', 'alc', 'stability',\n",
      "       'academic_support', 'idle', 'grade_avg', 'delinquency', 'Medu_1',\n",
      "       'Medu_2', 'Medu_3', 'Medu_4', 'Fedu_1', 'Fedu_2', 'Fedu_3', 'Fedu_4',\n",
      "       'Mjob_2', 'Mjob_3', 'Mjob_4', 'Mjob_5', 'Fjob_2', 'Fjob_3', 'Fjob_4',\n",
      "       'Fjob_5', 'reason_2', 'reason_3', 'reason_4', 'guardian_2',\n",
      "       'guardian_3', 'traveltime_2', 'traveltime_3', 'traveltime_4',\n",
      "       'studytime_2', 'studytime_3', 'studytime_4', 'failures_1', 'failures_2',\n",
      "       'failures_3', 'health_2', 'health_3', 'health_4', 'health_5'],\n",
      "      dtype='object')\n"
     ]
    }
   ],
   "source": [
    "print(df.shape)\n",
    "print(df.columns)"
   ]
  },
  {
   "cell_type": "code",
   "execution_count": 21,
   "metadata": {},
   "outputs": [
    {
     "name": "stdout",
     "output_type": "stream",
     "text": [
      "data and features : (649, 51) \n",
      "\n",
      "features are: Index(['school', 'sex', 'age', 'address', 'Pstatus', 'paid', 'activities',\n",
      "       'nursery', 'internet', 'romantic', 'absences', 'alc', 'stability',\n",
      "       'academic_support', 'idle', 'grade_avg', 'delinquency', 'Medu_1',\n",
      "       'Medu_2', 'Medu_3', 'Medu_4', 'Fedu_1', 'Fedu_2', 'Fedu_3', 'Fedu_4',\n",
      "       'Mjob_2', 'Mjob_3', 'Mjob_4', 'Mjob_5', 'Fjob_2', 'Fjob_3', 'Fjob_4',\n",
      "       'Fjob_5', 'reason_2', 'reason_3', 'reason_4', 'guardian_2',\n",
      "       'guardian_3', 'traveltime_2', 'traveltime_3', 'traveltime_4',\n",
      "       'studytime_2', 'studytime_3', 'studytime_4', 'failures_1', 'failures_2',\n",
      "       'failures_3', 'health_2', 'health_3', 'health_4', 'health_5'],\n",
      "      dtype='object')\n"
     ]
    }
   ],
   "source": [
    "print('data and features :', df.shape,'\\n' ) \n",
    "print('features are:', df.columns)"
   ]
  },
  {
   "cell_type": "markdown",
   "metadata": {},
   "source": [
    "### Train Test Split"
   ]
  },
  {
   "cell_type": "code",
   "execution_count": 5,
   "metadata": {},
   "outputs": [
    {
     "name": "stdout",
     "output_type": "stream",
     "text": [
      "Training set - Features:  (519, 50) Target:  (519,)\n",
      "Test set - Features:  (130, 50) Target:  (130,)\n"
     ]
    }
   ],
   "source": [
    "X = df.drop(columns = ['alc'], axis = 1) \n",
    "y = df['alc']\n",
    "X_train, X_test, y_train, y_test = train_test_split(X, y, random_state=150, test_size=0.2)\n",
    "\n",
    "print(\"Training set - Features: \", X_train.shape, \"Target: \", y_train.shape,)\n",
    "print(\"Test set - Features: \", X_test.shape, \"Target: \",y_test.shape,)\n",
    "#print(y_train.value_counts(normalize = True))\n",
    "#print(y_test.value_counts(normalize = True))"
   ]
  },
  {
   "cell_type": "markdown",
   "metadata": {},
   "source": [
    "### Handling Class Imbalance - with Oversampling minority class"
   ]
  },
  {
   "cell_type": "markdown",
   "metadata": {},
   "source": [
    "### Upsampling Minority"
   ]
  },
  {
   "cell_type": "code",
   "execution_count": 6,
   "metadata": {},
   "outputs": [],
   "source": [
    "training  = pd.concat([X_train, y_train], axis=1)"
   ]
  },
  {
   "cell_type": "code",
   "execution_count": 7,
   "metadata": {},
   "outputs": [
    {
     "name": "stdout",
     "output_type": "stream",
     "text": [
      "light drinker count: 426\n",
      "heavy drinker count: 93\n"
     ]
    }
   ],
   "source": [
    "light_drinker = training[training.alc==0]\n",
    "heavy_drinker = training[training.alc==1]\n",
    "\n",
    "print('light drinker count: '+ str(len(light_drinker)))\n",
    "print('heavy drinker count: '+ str(len(heavy_drinker)))"
   ]
  },
  {
   "cell_type": "code",
   "execution_count": 8,
   "metadata": {},
   "outputs": [],
   "source": [
    "from sklearn.utils import resample"
   ]
  },
  {
   "cell_type": "code",
   "execution_count": 9,
   "metadata": {},
   "outputs": [
    {
     "data": {
      "text/plain": [
       "(426, 51)"
      ]
     },
     "execution_count": 9,
     "metadata": {},
     "output_type": "execute_result"
    }
   ],
   "source": [
    "heavy_drinker_upsampled = resample(heavy_drinker,\n",
    "                          replace=True, \n",
    "                          n_samples=len(light_drinker), \n",
    "                          random_state=23) \n",
    "heavy_drinker_upsampled.shape"
   ]
  },
  {
   "cell_type": "code",
   "execution_count": 10,
   "metadata": {},
   "outputs": [
    {
     "data": {
      "text/plain": [
       "0    426\n",
       "1    426\n",
       "Name: alc, dtype: int64"
      ]
     },
     "execution_count": 10,
     "metadata": {},
     "output_type": "execute_result"
    }
   ],
   "source": [
    "upsampled = pd.concat([light_drinker, heavy_drinker_upsampled])\n",
    "upsampled.alc.value_counts()"
   ]
  },
  {
   "cell_type": "code",
   "execution_count": 11,
   "metadata": {},
   "outputs": [
    {
     "name": "stdout",
     "output_type": "stream",
     "text": [
      "(852, 50)\n"
     ]
    }
   ],
   "source": [
    "y_train_up = upsampled.alc\n",
    "X_train_up = upsampled.drop(columns = 'alc', axis=1)\n",
    "print(X_train_up.shape)\n"
   ]
  },
  {
   "cell_type": "markdown",
   "metadata": {},
   "source": [
    "**Scaling**"
   ]
  },
  {
   "cell_type": "code",
   "execution_count": 12,
   "metadata": {},
   "outputs": [],
   "source": [
    "scaler= MinMaxScaler()  \n",
    "scaler.fit(X_train_up)\n",
    "\n",
    "X_train_scaleu = scaler.transform(X_train_up)  \n",
    "X_test_scale = scaler.transform(X_test)"
   ]
  },
  {
   "cell_type": "markdown",
   "metadata": {},
   "source": [
    "# Feature Selection"
   ]
  },
  {
   "cell_type": "markdown",
   "metadata": {},
   "source": [
    "### Select Kbest 10"
   ]
  },
  {
   "cell_type": "code",
   "execution_count": 19,
   "metadata": {},
   "outputs": [
    {
     "name": "stdout",
     "output_type": "stream",
     "text": [
      "Index(['sex', 'age', 'address', 'absences', 'academic_support', 'idle',\n",
      "       'grade_avg', 'reason_4', 'studytime_2', 'studytime_3'],\n",
      "      dtype='object') Index(['sex', 'age', 'address', 'absences', 'academic_support', 'idle',\n",
      "       'grade_avg', 'reason_4', 'studytime_2', 'studytime_3'],\n",
      "      dtype='object')\n"
     ]
    }
   ],
   "source": [
    "\n",
    "selector = SelectKBest(f_classif, k=10) \n",
    "selector.fit(X_train_up, y_train_up)\n",
    "\n",
    "selected_columns = X_train_up.columns[selector.get_support()]\n",
    "\n",
    "X_train_kb10 = X_train_up[selected_columns]\n",
    "X_test_kb10 = X_test[selected_columns]\n",
    "print(X_train_kb10.columns, X_test_kb10.columns)\n"
   ]
  },
  {
   "cell_type": "markdown",
   "metadata": {},
   "source": [
    "### Select Kbest 15"
   ]
  },
  {
   "cell_type": "code",
   "execution_count": 14,
   "metadata": {},
   "outputs": [],
   "source": [
    "\n",
    "selector = SelectKBest(f_classif, k=15) \n",
    "selector.fit(X_train_up, y_train_up)\n",
    "\n",
    "selected_columns = X_train_up.columns[selector.get_support()]\n",
    "removed_columns = X_train_up.columns[~selector.get_support()]\n",
    "\n",
    "X_train_kb15 = X_train_up[selected_columns]\n",
    "X_test_kb15 = X_test[selected_columns]"
   ]
  },
  {
   "cell_type": "markdown",
   "metadata": {},
   "source": [
    "### Select Kbest 20"
   ]
  },
  {
   "cell_type": "code",
   "execution_count": 15,
   "metadata": {},
   "outputs": [],
   "source": [
    "\n",
    "selector = SelectKBest(f_classif, k=20) \n",
    "selector.fit(X_train_up, y_train_up)\n",
    "\n",
    "selected_columns = X_train_up.columns[selector.get_support()]\n",
    "removed_columns = X_train_up.columns[~selector.get_support()]\n",
    "\n",
    "X_train_kb20 = X_train_up[selected_columns]\n",
    "X_test_kb20 = X_test[selected_columns]"
   ]
  },
  {
   "cell_type": "markdown",
   "metadata": {},
   "source": [
    "### Select Kbest 25"
   ]
  },
  {
   "cell_type": "code",
   "execution_count": 16,
   "metadata": {},
   "outputs": [],
   "source": [
    "\n",
    "selector = SelectKBest(f_classif, k=25)\n",
    "selector.fit(X_train_up, y_train_up)\n",
    "\n",
    "selected_columns = X_train_up.columns[selector.get_support()]\n",
    "removed_columns = X_train_up.columns[~selector.get_support()]\n",
    "\n",
    "X_train_kb25 = X_train_up[selected_columns]\n",
    "X_test_kb25 = X_test[selected_columns]"
   ]
  },
  {
   "cell_type": "markdown",
   "metadata": {},
   "source": [
    "### Select Kbest 30"
   ]
  },
  {
   "cell_type": "code",
   "execution_count": 17,
   "metadata": {},
   "outputs": [],
   "source": [
    "\n",
    "selector = SelectKBest(f_classif, k=30)\n",
    "selector.fit(X_train_up, y_train_up)\n",
    "\n",
    "selected_columns = X_train_up.columns[selector.get_support()]\n",
    "removed_columns = X_train_up.columns[~selector.get_support()]\n",
    "\n",
    "X_train_kb30 = X_train_up[selected_columns]\n",
    "X_test_kb30 = X_test[selected_columns]"
   ]
  },
  {
   "cell_type": "markdown",
   "metadata": {},
   "source": [
    "### Select Kbest 35"
   ]
  },
  {
   "cell_type": "code",
   "execution_count": 18,
   "metadata": {},
   "outputs": [],
   "source": [
    "\n",
    "selector = SelectKBest(f_classif, k=35) \n",
    "selector.fit(X_train_up, y_train_up)\n",
    "\n",
    "selected_columns = X_train_up.columns[selector.get_support()]\n",
    "removed_columns = X_train_up.columns[~selector.get_support()]\n",
    "\n",
    "X_train_kb35 = X_train_up[selected_columns]\n",
    "X_test_kb35 = X_test[selected_columns]"
   ]
  },
  {
   "cell_type": "markdown",
   "metadata": {},
   "source": [
    "# Models"
   ]
  },
  {
   "cell_type": "markdown",
   "metadata": {},
   "source": [
    "Our target variable in this project, tells whether a student is a heavy alcohol drinker or not. Our main concern here becomes that we do not want to predict that a student is not a heavy drinker when they actually are. Thus, we are interested in minimizing chances of any False Negatives. Correctly, identifying student has a problem allows us to appropriately allocate help or resources to ameliorate conditions for that student/s to minimize any drinking problem. \n",
    "\n",
    "Thus, our focus will be on the recall score or sensitivity score that tells us the proportion of actual positives identified correctly, given by (TP/(TP+FN). The higher this score, the better. \n",
    "\n",
    "We also looked at the Accuracy score and the F1 scores as extra metrics to compare model performance on."
   ]
  },
  {
   "cell_type": "markdown",
   "metadata": {},
   "source": [
    "# 1.Logistic Model\n",
    "**Running a model without any class imbalance resolution on the original features with no transformations or scaling**"
   ]
  },
  {
   "cell_type": "code",
   "execution_count": 59,
   "metadata": {},
   "outputs": [
    {
     "name": "stdout",
     "output_type": "stream",
     "text": [
      "\n",
      "\n",
      "confusion matrix\n",
      "\n",
      "[[98  5]\n",
      " [20  7]]\n",
      "\n",
      "\n",
      "classification Report\n",
      "\n",
      "              precision    recall  f1-score   support\n",
      "\n",
      "           0       0.83      0.95      0.89       103\n",
      "           1       0.58      0.26      0.36        27\n",
      "\n",
      "    accuracy                           0.81       130\n",
      "   macro avg       0.71      0.61      0.62       130\n",
      "weighted avg       0.78      0.81      0.78       130\n",
      "\n"
     ]
    }
   ],
   "source": [
    "lr1 = LogisticRegression(solver='liblinear', random_state=150)\n",
    "\n",
    "lr1.fit(X_train, y_train)\n",
    "p = lr1.predict(X_test)\n",
    "\n",
    "print('\\n\\nconfusion matrix\\n')\n",
    "print(confusion_matrix(y_test,p))\n",
    "print('\\n\\nclassification Report\\n')\n",
    "print(classification_report(y_test,p))"
   ]
  },
  {
   "cell_type": "code",
   "execution_count": 60,
   "metadata": {},
   "outputs": [
    {
     "data": {
      "text/plain": [
       "{'1.logistic_original_features': (0.8077, 0.359, 0.2593)}"
      ]
     },
     "execution_count": 60,
     "metadata": {},
     "output_type": "execute_result"
    }
   ],
   "source": [
    "results = {}\n",
    "\n",
    "results['1.logistic_original_features'] = (round(metrics.accuracy_score(y_test, p),4), \n",
    "                            round(metrics.f1_score(y_test, p),4), \n",
    "                          round(metrics.recall_score(y_test, p),4))\n",
    "results"
   ]
  },
  {
   "cell_type": "markdown",
   "metadata": {},
   "source": [
    "### 2. Logistic Regression with X_train_up (Upsampled Unscaled Train set)"
   ]
  },
  {
   "cell_type": "code",
   "execution_count": 62,
   "metadata": {},
   "outputs": [
    {
     "name": "stdout",
     "output_type": "stream",
     "text": [
      "\n",
      "\n",
      "confusion matrix\n",
      "\n",
      "[[87 16]\n",
      " [14 13]]\n",
      "\n",
      "\n",
      "classification Report\n",
      "\n",
      "              precision    recall  f1-score   support\n",
      "\n",
      "           0       0.86      0.84      0.85       103\n",
      "           1       0.45      0.48      0.46        27\n",
      "\n",
      "    accuracy                           0.77       130\n",
      "   macro avg       0.65      0.66      0.66       130\n",
      "weighted avg       0.78      0.77      0.77       130\n",
      "\n"
     ]
    }
   ],
   "source": [
    "lr_u = LogisticRegression(solver='liblinear')\n",
    "lr_u.fit(X_train_up, y_train_up)\n",
    "\n",
    "\n",
    "p = lr_u.predict(X_test)\n",
    "\n",
    "print('\\n\\nconfusion matrix\\n')\n",
    "print(confusion_matrix(y_test,p))\n",
    "print('\\n\\nclassification Report\\n')\n",
    "print(classification_report(y_test,p))\n"
   ]
  },
  {
   "cell_type": "code",
   "execution_count": 63,
   "metadata": {},
   "outputs": [
    {
     "data": {
      "text/plain": [
       "{'1.logistic_original_features': (0.8077, 0.359, 0.2593),\n",
       " '2.lr_upsampled': (0.7692, 0.4643, 0.4815)}"
      ]
     },
     "execution_count": 63,
     "metadata": {},
     "output_type": "execute_result"
    }
   ],
   "source": [
    "results['2.lr_upsampled'] = (round(metrics.accuracy_score(y_test, p),4), \n",
    "                           round(metrics.f1_score(y_test, p),4),\n",
    "                          round(metrics.recall_score(y_test, p),4))\n",
    "results"
   ]
  },
  {
   "cell_type": "markdown",
   "metadata": {},
   "source": [
    "### 3. Logistic Regression with X_train_up (Upsampled and Scaled Train set)"
   ]
  },
  {
   "cell_type": "code",
   "execution_count": 64,
   "metadata": {},
   "outputs": [
    {
     "name": "stdout",
     "output_type": "stream",
     "text": [
      "\n",
      "\n",
      "confusion matrix\n",
      "\n",
      "[[90 13]\n",
      " [15 12]]\n",
      "\n",
      "\n",
      "classification Report\n",
      "\n",
      "              precision    recall  f1-score   support\n",
      "\n",
      "           0       0.86      0.87      0.87       103\n",
      "           1       0.48      0.44      0.46        27\n",
      "\n",
      "    accuracy                           0.78       130\n",
      "   macro avg       0.67      0.66      0.66       130\n",
      "weighted avg       0.78      0.78      0.78       130\n",
      "\n"
     ]
    }
   ],
   "source": [
    "lr_us = LogisticRegression(solver='liblinear')\n",
    "\n",
    "\n",
    "lr_us.fit(X_train_scaleu, y_train_up)\n",
    "p = lr_us.predict(X_test_scale)\n",
    "\n",
    "print('\\n\\nconfusion matrix\\n')\n",
    "print(confusion_matrix(y_test,p))\n",
    "print('\\n\\nclassification Report\\n')\n",
    "print(classification_report(y_test,p))\n"
   ]
  },
  {
   "cell_type": "code",
   "execution_count": 65,
   "metadata": {},
   "outputs": [
    {
     "data": {
      "text/plain": [
       "{'1.logistic_original_features': (0.8077, 0.359, 0.2593),\n",
       " '2.lr_upsampled': (0.7692, 0.4643, 0.4815),\n",
       " '3.lr_upscaled': (0.7846, 0.4615, 0.4444)}"
      ]
     },
     "execution_count": 65,
     "metadata": {},
     "output_type": "execute_result"
    }
   ],
   "source": [
    "results['3.lr_upscaled'] = (round(metrics.accuracy_score(y_test, p),4), \n",
    "                           round(metrics.f1_score(y_test, p),4),\n",
    "                          round(metrics.recall_score(y_test, p),4))\n",
    "results\n"
   ]
  },
  {
   "cell_type": "markdown",
   "metadata": {},
   "source": [
    "### 4. Logistic Regression with K best 10"
   ]
  },
  {
   "cell_type": "code",
   "execution_count": 66,
   "metadata": {},
   "outputs": [
    {
     "name": "stdout",
     "output_type": "stream",
     "text": [
      "\n",
      "\n",
      "confusion matrix\n",
      "\n",
      "[[84 19]\n",
      " [11 16]]\n",
      "\n",
      "\n",
      "classification Report\n",
      "\n",
      "              precision    recall  f1-score   support\n",
      "\n",
      "           0       0.88      0.82      0.85       103\n",
      "           1       0.46      0.59      0.52        27\n",
      "\n",
      "    accuracy                           0.77       130\n",
      "   macro avg       0.67      0.70      0.68       130\n",
      "weighted avg       0.80      0.77      0.78       130\n",
      "\n"
     ]
    }
   ],
   "source": [
    "kb10_lr = LogisticRegression(solver='liblinear')\n",
    "\n",
    "\n",
    "kb10_lr.fit(X_train_kb10, y_train_up)\n",
    "p = kb10_lr.predict(X_test_kb10)\n",
    "\n",
    "print('\\n\\nconfusion matrix\\n')\n",
    "print(confusion_matrix(y_test,p))\n",
    "print('\\n\\nclassification Report\\n')\n",
    "print(classification_report(y_test,p))\n"
   ]
  },
  {
   "cell_type": "code",
   "execution_count": 67,
   "metadata": {},
   "outputs": [
    {
     "data": {
      "text/plain": [
       "{'1.logistic_original_features': (0.8077, 0.359, 0.2593),\n",
       " '2.lr_upsampled': (0.7692, 0.4643, 0.4815),\n",
       " '3.lr_upscaled': (0.7846, 0.4615, 0.4444),\n",
       " '4.lr_kb10': (0.7692, 0.5161, 0.5926)}"
      ]
     },
     "execution_count": 67,
     "metadata": {},
     "output_type": "execute_result"
    }
   ],
   "source": [
    "results['4.lr_kb10'] =  (round(metrics.accuracy_score(y_test, p),4), \n",
    "                           round(metrics.f1_score(y_test, p),4),\n",
    "                          round(metrics.recall_score(y_test, p),4))\n",
    "results"
   ]
  },
  {
   "cell_type": "markdown",
   "metadata": {},
   "source": [
    "### 5. Logistic Regression with K best 15"
   ]
  },
  {
   "cell_type": "code",
   "execution_count": 68,
   "metadata": {},
   "outputs": [
    {
     "name": "stdout",
     "output_type": "stream",
     "text": [
      "\n",
      "\n",
      "confusion matrix\n",
      "\n",
      "[[85 18]\n",
      " [11 16]]\n",
      "\n",
      "\n",
      "classification Report\n",
      "\n",
      "              precision    recall  f1-score   support\n",
      "\n",
      "           0       0.89      0.83      0.85       103\n",
      "           1       0.47      0.59      0.52        27\n",
      "\n",
      "    accuracy                           0.78       130\n",
      "   macro avg       0.68      0.71      0.69       130\n",
      "weighted avg       0.80      0.78      0.79       130\n",
      "\n"
     ]
    }
   ],
   "source": [
    "kb15_lr = LogisticRegression(solver='liblinear')\n",
    "\n",
    "kb15_lr.fit(X_train_kb15, y_train_up)\n",
    "p = kb15_lr.predict(X_test_kb15)\n",
    "\n",
    "print('\\n\\nconfusion matrix\\n')\n",
    "print(confusion_matrix(y_test,p))\n",
    "print('\\n\\nclassification Report\\n')\n",
    "print(classification_report(y_test,p))"
   ]
  },
  {
   "cell_type": "code",
   "execution_count": 69,
   "metadata": {},
   "outputs": [
    {
     "data": {
      "text/plain": [
       "{'1.logistic_original_features': (0.8077, 0.359, 0.2593),\n",
       " '2.lr_upsampled': (0.7692, 0.4643, 0.4815),\n",
       " '3.lr_upscaled': (0.7846, 0.4615, 0.4444),\n",
       " '4.lr_kb10': (0.7692, 0.5161, 0.5926),\n",
       " '5.lr_kb15': (0.7769, 0.5246, 0.5926)}"
      ]
     },
     "execution_count": 69,
     "metadata": {},
     "output_type": "execute_result"
    }
   ],
   "source": [
    "results['5.lr_kb15'] =  (round(metrics.accuracy_score(y_test, p),4), \n",
    "                           round(metrics.f1_score(y_test, p),4),\n",
    "                          round(metrics.recall_score(y_test, p),4))\n",
    "results"
   ]
  },
  {
   "cell_type": "markdown",
   "metadata": {},
   "source": [
    "### 6. Logistic Regression with K best 20"
   ]
  },
  {
   "cell_type": "code",
   "execution_count": 70,
   "metadata": {},
   "outputs": [
    {
     "name": "stdout",
     "output_type": "stream",
     "text": [
      "\n",
      "\n",
      "confusion matrix\n",
      "\n",
      "[[85 18]\n",
      " [11 16]]\n",
      "\n",
      "\n",
      "classification Report\n",
      "\n",
      "              precision    recall  f1-score   support\n",
      "\n",
      "           0       0.89      0.83      0.85       103\n",
      "           1       0.47      0.59      0.52        27\n",
      "\n",
      "    accuracy                           0.78       130\n",
      "   macro avg       0.68      0.71      0.69       130\n",
      "weighted avg       0.80      0.78      0.79       130\n",
      "\n"
     ]
    }
   ],
   "source": [
    "kb20_lr = LogisticRegression(solver='liblinear')\n",
    "\n",
    "kb20_lr.fit(X_train_kb20, y_train_up)\n",
    "p = kb20_lr.predict(X_test_kb20)\n",
    "\n",
    "print('\\n\\nconfusion matrix\\n')\n",
    "print(confusion_matrix(y_test,p))\n",
    "print('\\n\\nclassification Report\\n')\n",
    "print(classification_report(y_test,p))"
   ]
  },
  {
   "cell_type": "code",
   "execution_count": 71,
   "metadata": {},
   "outputs": [
    {
     "data": {
      "text/plain": [
       "{'1.logistic_original_features': (0.8077, 0.359, 0.2593),\n",
       " '2.lr_upsampled': (0.7692, 0.4643, 0.4815),\n",
       " '3.lr_upscaled': (0.7846, 0.4615, 0.4444),\n",
       " '4.lr_kb10': (0.7692, 0.5161, 0.5926),\n",
       " '5.lr_kb15': (0.7769, 0.5246, 0.5926),\n",
       " '6.lr_kb20': (0.7769, 0.5246, 0.5926)}"
      ]
     },
     "execution_count": 71,
     "metadata": {},
     "output_type": "execute_result"
    }
   ],
   "source": [
    "results['6.lr_kb20'] =  (round(metrics.accuracy_score(y_test, p),4), \n",
    "                           round(metrics.f1_score(y_test, p),4),\n",
    "                          round(metrics.recall_score(y_test, p),4))\n",
    "results"
   ]
  },
  {
   "cell_type": "markdown",
   "metadata": {},
   "source": [
    "### 7. Logistic Regression with K best 25"
   ]
  },
  {
   "cell_type": "code",
   "execution_count": 72,
   "metadata": {},
   "outputs": [
    {
     "name": "stdout",
     "output_type": "stream",
     "text": [
      "\n",
      "\n",
      "confusion matrix\n",
      "\n",
      "[[86 17]\n",
      " [11 16]]\n",
      "\n",
      "\n",
      "classification Report\n",
      "\n",
      "              precision    recall  f1-score   support\n",
      "\n",
      "           0       0.89      0.83      0.86       103\n",
      "           1       0.48      0.59      0.53        27\n",
      "\n",
      "    accuracy                           0.78       130\n",
      "   macro avg       0.69      0.71      0.70       130\n",
      "weighted avg       0.80      0.78      0.79       130\n",
      "\n"
     ]
    }
   ],
   "source": [
    "kb25_lr = LogisticRegression(solver='liblinear')\n",
    "\n",
    "kb25_lr.fit(X_train_kb25, y_train_up)\n",
    "p= kb25_lr.predict(X_test_kb25)\n",
    "\n",
    "print('\\n\\nconfusion matrix\\n')\n",
    "print(confusion_matrix(y_test,p))\n",
    "print('\\n\\nclassification Report\\n')\n",
    "print(classification_report(y_test,p))"
   ]
  },
  {
   "cell_type": "code",
   "execution_count": 73,
   "metadata": {},
   "outputs": [
    {
     "data": {
      "text/plain": [
       "{'1.logistic_original_features': (0.8077, 0.359, 0.2593),\n",
       " '2.lr_upsampled': (0.7692, 0.4643, 0.4815),\n",
       " '3.lr_upscaled': (0.7846, 0.4615, 0.4444),\n",
       " '4.lr_kb10': (0.7692, 0.5161, 0.5926),\n",
       " '5.lr_kb15': (0.7769, 0.5246, 0.5926),\n",
       " '6.lr_kb20': (0.7769, 0.5246, 0.5926),\n",
       " '7.lr_kb25': (0.7846, 0.5333, 0.5926)}"
      ]
     },
     "execution_count": 73,
     "metadata": {},
     "output_type": "execute_result"
    }
   ],
   "source": [
    "results['7.lr_kb25'] =  (round(metrics.accuracy_score(y_test, p),4), \n",
    "                           round(metrics.f1_score(y_test, p),4),\n",
    "                          round(metrics.recall_score(y_test, p),4))\n",
    "results"
   ]
  },
  {
   "cell_type": "markdown",
   "metadata": {},
   "source": [
    "### 8. Logistic Regression with K best 30"
   ]
  },
  {
   "cell_type": "code",
   "execution_count": 74,
   "metadata": {},
   "outputs": [
    {
     "name": "stdout",
     "output_type": "stream",
     "text": [
      "\n",
      "\n",
      "confusion matrix\n",
      "\n",
      "[[87 16]\n",
      " [13 14]]\n",
      "\n",
      "\n",
      "classification Report\n",
      "\n",
      "              precision    recall  f1-score   support\n",
      "\n",
      "           0       0.87      0.84      0.86       103\n",
      "           1       0.47      0.52      0.49        27\n",
      "\n",
      "    accuracy                           0.78       130\n",
      "   macro avg       0.67      0.68      0.67       130\n",
      "weighted avg       0.79      0.78      0.78       130\n",
      "\n"
     ]
    }
   ],
   "source": [
    "kb30_lr = LogisticRegression(solver='liblinear')\n",
    "\n",
    "kb30_lr.fit(X_train_kb30, y_train_up)\n",
    "p = kb30_lr.predict(X_test_kb30)\n",
    "\n",
    "print('\\n\\nconfusion matrix\\n')\n",
    "print(confusion_matrix(y_test,p))\n",
    "print('\\n\\nclassification Report\\n')\n",
    "print(classification_report(y_test,p))"
   ]
  },
  {
   "cell_type": "code",
   "execution_count": 75,
   "metadata": {},
   "outputs": [
    {
     "data": {
      "text/plain": [
       "{'1.logistic_original_features': (0.8077, 0.359, 0.2593),\n",
       " '2.lr_upsampled': (0.7692, 0.4643, 0.4815),\n",
       " '3.lr_upscaled': (0.7846, 0.4615, 0.4444),\n",
       " '4.lr_kb10': (0.7692, 0.5161, 0.5926),\n",
       " '5.lr_kb15': (0.7769, 0.5246, 0.5926),\n",
       " '6.lr_kb20': (0.7769, 0.5246, 0.5926),\n",
       " '7.lr_kb25': (0.7846, 0.5333, 0.5926),\n",
       " '8.lr_kb30': (0.7769, 0.4912, 0.5185)}"
      ]
     },
     "execution_count": 75,
     "metadata": {},
     "output_type": "execute_result"
    }
   ],
   "source": [
    "results['8.lr_kb30'] =  (round(metrics.accuracy_score(y_test, p),4), \n",
    "                           round(metrics.f1_score(y_test, p),4),\n",
    "                          round(metrics.recall_score(y_test, p),4))\n",
    "results"
   ]
  },
  {
   "cell_type": "markdown",
   "metadata": {},
   "source": [
    "### 9. Logistic Regression with K best 35"
   ]
  },
  {
   "cell_type": "code",
   "execution_count": 76,
   "metadata": {},
   "outputs": [
    {
     "name": "stdout",
     "output_type": "stream",
     "text": [
      "\n",
      "\n",
      "confusion matrix\n",
      "\n",
      "[[86 17]\n",
      " [13 14]]\n",
      "\n",
      "\n",
      "classification Report\n",
      "\n",
      "              precision    recall  f1-score   support\n",
      "\n",
      "           0       0.87      0.83      0.85       103\n",
      "           1       0.45      0.52      0.48        27\n",
      "\n",
      "    accuracy                           0.77       130\n",
      "   macro avg       0.66      0.68      0.67       130\n",
      "weighted avg       0.78      0.77      0.77       130\n",
      "\n"
     ]
    }
   ],
   "source": [
    "kb35_lr = LogisticRegression(solver='liblinear')\n",
    "\n",
    "kb35_lr.fit(X_train_kb35, y_train_up)\n",
    "p = kb35_lr.predict(X_test_kb35)\n",
    "\n",
    "print('\\n\\nconfusion matrix\\n')\n",
    "print(confusion_matrix(y_test,p))\n",
    "print('\\n\\nclassification Report\\n')\n",
    "print(classification_report(y_test,p))"
   ]
  },
  {
   "cell_type": "code",
   "execution_count": 77,
   "metadata": {},
   "outputs": [
    {
     "data": {
      "text/plain": [
       "{'1.logistic_original_features': (0.8077, 0.359, 0.2593),\n",
       " '2.lr_upsampled': (0.7692, 0.4643, 0.4815),\n",
       " '3.lr_upscaled': (0.7846, 0.4615, 0.4444),\n",
       " '4.lr_kb10': (0.7692, 0.5161, 0.5926),\n",
       " '5.lr_kb15': (0.7769, 0.5246, 0.5926),\n",
       " '6.lr_kb20': (0.7769, 0.5246, 0.5926),\n",
       " '7.lr_kb25': (0.7846, 0.5333, 0.5926),\n",
       " '8.lr_kb30': (0.7769, 0.4912, 0.5185),\n",
       " '9.lr_kb35': (0.7692, 0.4828, 0.5185)}"
      ]
     },
     "execution_count": 77,
     "metadata": {},
     "output_type": "execute_result"
    }
   ],
   "source": [
    "results['9.lr_kb35'] =  (round(metrics.accuracy_score(y_test, p),4), \n",
    "                           round(metrics.f1_score(y_test, p),4),\n",
    "                          round(metrics.recall_score(y_test, p),4))\n",
    "results"
   ]
  },
  {
   "cell_type": "markdown",
   "metadata": {},
   "source": [
    "**Final model**\n",
    "we see that higher accuracy come from knn_kb10 so we featured 10 variables for KNN model."
   ]
  },
  {
   "cell_type": "code",
   "execution_count": 78,
   "metadata": {},
   "outputs": [
    {
     "name": "stdout",
     "output_type": "stream",
     "text": [
      "\n",
      "\n",
      "confusion matrix\n",
      "\n",
      "[[84 19]\n",
      " [11 16]]\n",
      "\n",
      "\n",
      "classification Report\n",
      "\n",
      "              precision    recall  f1-score   support\n",
      "\n",
      "           0       0.88      0.82      0.85       103\n",
      "           1       0.46      0.59      0.52        27\n",
      "\n",
      "    accuracy                           0.77       130\n",
      "   macro avg       0.67      0.70      0.68       130\n",
      "weighted avg       0.80      0.77      0.78       130\n",
      "\n"
     ]
    },
    {
     "data": {
      "image/png": "[encoded data removed]",
      "text/plain": [
       "<Figure size 640x480 with 2 Axes>"
      ]
     },
     "metadata": {},
     "output_type": "display_data"
    }
   ],
   "source": [
    "\n",
    "kb10_lr.fit(X_train_kb10, y_train_up)\n",
    "p = kb10_lr.predict(X_test_kb10)\n",
    "\n",
    "print('\\n\\nconfusion matrix\\n')\n",
    "print(confusion_matrix(y_test,p))\n",
    "print('\\n\\nclassification Report\\n')\n",
    "print(classification_report(y_test,p))\n",
    "\n",
    "cm = confusion_matrix(y_test, p)\n",
    "cm_display = ConfusionMatrixDisplay(cm).plot()"
   ]
  },
  {
   "cell_type": "code",
   "execution_count": null,
   "metadata": {},
   "outputs": [],
   "source": []
  },
  {
   "cell_type": "code",
   "execution_count": null,
   "metadata": {},
   "outputs": [],
   "source": []
  },
  {
   "cell_type": "code",
   "execution_count": null,
   "metadata": {},
   "outputs": [],
   "source": []
  },
  {
   "cell_type": "code",
   "execution_count": null,
   "metadata": {},
   "outputs": [],
   "source": []
  },
  {
   "cell_type": "code",
   "execution_count": null,
   "metadata": {},
   "outputs": [],
   "source": []
  }
 ],
 "metadata": {
  "kernelspec": {
   "display_name": "Python 3 (ipykernel)",
   "language": "python",
   "name": "python3"
  },
  "language_info": {
   "codemirror_mode": {
    "name": "ipython",
    "version": 3
   },
   "file_extension": ".py",
   "mimetype": "text/x-python",
   "name": "python",
   "nbconvert_exporter": "python",
   "pygments_lexer": "ipython3",
   "version": "3.10.9"
  }
 },
 "nbformat": 4,
 "nbformat_minor": 4
}
